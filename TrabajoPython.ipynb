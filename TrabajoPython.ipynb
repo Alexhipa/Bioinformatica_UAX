{
 "cells": [
  {
   "cell_type": "markdown",
   "metadata": {},
   "source": [
    "# TRABAJO DE PYTHON\n",
    "\n",
    "### Este trabajo cuenta el 30% de la nota. La entrega será el 5 de Noviembre a las 23:59.\n",
    "\n",
    "### Resuelve los siguientes ejercicios en Python sin usar expresiones regulares\n",
    "\n",
    "#### Utiliza tantas celdas de código como necesites\n",
    "\n",
    "##\n",
    "\n",
    "\n",
    "\n",
    "\n",
    "\n",
    "\n",
    "\n"
   ]
  },
  {
   "cell_type": "markdown",
   "metadata": {},
   "source": [
    "### 1.- BUSCA LA SECUENCIA COMPLEMENTARIA\n",
    "#### Devuelve la secuencia complementaria de la siguiente secuencia de ADN"
   ]
  },
  {
   "cell_type": "code",
   "execution_count": 137,
   "metadata": {},
   "outputs": [],
   "source": [
    "my_dna = \"ACTGATCGATTACGTATAGTATTTGCTATCATACATATATATCGATGCGTTCAT\""
   ]
  },
  {
   "cell_type": "code",
   "execution_count": 138,
   "metadata": {},
   "outputs": [],
   "source": [
    "def complemento(dna): #definimos la funcion complemento() \n",
    "    complementodna=\"\" #creamos una string donde \"escribiremos\" la secuencia complementaria\n",
    "    for nucleotido in dna:\n",
    "        if nucleotido==\"A\": #el bucle mira posicion por posicion el nucleotido que hay y escribe en el complementodna el nucleotido complementario\n",
    "            complementodna += (\"T\")\n",
    "        elif nucleotido==\"G\":\n",
    "            complementodna += (\"C\")\n",
    "        elif nucleotido==\"T\":\n",
    "            complementodna += (\"A\")\n",
    "        elif nucleotido==\"C\":\n",
    "            complementodna += (\"G\")\n",
    "    print(complementodna) #el print del complementodna debería de ser igual al archivo que hayamos metido en la función pero complementario"
   ]
  },
  {
   "cell_type": "code",
   "execution_count": 139,
   "metadata": {},
   "outputs": [
    {
     "name": "stdout",
     "output_type": "stream",
     "text": [
      "TGACTAGCTAATGCATATCATAAACGATAGTATGTATATATAGCTACGCAAGTA\n"
     ]
    }
   ],
   "source": [
    "complemento(my_dna)"
   ]
  },
  {
   "cell_type": "markdown",
   "metadata": {},
   "source": [
    "Si queremos darle la vuelta a la secuencia entonces:"
   ]
  },
  {
   "cell_type": "code",
   "execution_count": 142,
   "metadata": {},
   "outputs": [],
   "source": [
    "def complementoinverso(dna): #hacemos lo mismo en todo excepto en el bucle\n",
    "    complementoinversodna=\"\"\n",
    "    for nucleotido in reversed(dna): #utilizamos la función reversed para que al empezar el bucle, se de la vuelta al archivo elegido primero\n",
    "        if nucleotido==\"A\":\n",
    "            complementoinversodna += (\"T\")\n",
    "        elif nucleotido==\"G\":\n",
    "            complementoinversodna += (\"C\")\n",
    "        elif nucleotido==\"T\":\n",
    "            complementoinversodna += (\"A\")\n",
    "        elif nucleotido==\"C\":\n",
    "            complementoinversodna += (\"G\")\n",
    "    print(complementoinversodna) #el resultado es la secuencia inversa complementaria (que creo que es la manera mas correcta de escribirla)"
   ]
  },
  {
   "cell_type": "code",
   "execution_count": 143,
   "metadata": {},
   "outputs": [
    {
     "name": "stdout",
     "output_type": "stream",
     "text": [
      "ATGAACGCATCGATATATATGTATGATAGCAAATACTATACGTAATCGATCAGT\n"
     ]
    }
   ],
   "source": [
    "complementoinverso(my_dna)"
   ]
  },
  {
   "cell_type": "markdown",
   "metadata": {},
   "source": [
    "##\n",
    "### 2.- FRAGMENTOS DE RESTRICCION\n",
    "#### Obtén los fragmentos de restricción de EcoRI, que tiene un sitio de corte en G*AATTC (la posición de corte se indica por el *).\n",
    "#### No uses expresiones regulares. \n",
    "#### Pista: utiliza la función find()"
   ]
  },
  {
   "cell_type": "code",
   "execution_count": 144,
   "metadata": {
    "scrolled": true
   },
   "outputs": [],
   "source": [
    "my_dna = \"ACTGATCGATTACGTATAGTATTTGCTATGAATTCCATACATATATATCGATGCGTTCAT\""
   ]
  },
  {
   "cell_type": "markdown",
   "metadata": {},
   "source": [
    "Para saber en que posición empieza el fragmento de restricción:"
   ]
  },
  {
   "cell_type": "code",
   "execution_count": 145,
   "metadata": {
    "scrolled": true
   },
   "outputs": [
    {
     "data": {
      "text/plain": [
       "29"
      ]
     },
     "execution_count": 145,
     "metadata": {},
     "output_type": "execute_result"
    }
   ],
   "source": [
    "my_dna.find(\"GAATTC\", 0, len(my_dna)) #con find podemos buscar entre el caracter 0 y el último caracter (que esta en la misma posicion que la longitud de la string)"
   ]
  },
  {
   "cell_type": "code",
   "execution_count": 146,
   "metadata": {},
   "outputs": [
    {
     "name": "stdout",
     "output_type": "stream",
     "text": [
      "ACTGATCGATTACGTATAGTATTTGCTATG\n"
     ]
    }
   ],
   "source": [
    "fragmento1 = my_dna[0:30] #30 porque el punto de corte esta entre la posición 29(G) y 30(A)\n",
    "print(fragmento1)"
   ]
  },
  {
   "cell_type": "code",
   "execution_count": 147,
   "metadata": {},
   "outputs": [
    {
     "name": "stdout",
     "output_type": "stream",
     "text": [
      "AATTCCATACATATATATCGATGCGTTCAT\n"
     ]
    }
   ],
   "source": [
    "fragmento2 = my_dna[30:len(my_dna)]\n",
    "print(fragmento2)"
   ]
  },
  {
   "cell_type": "markdown",
   "metadata": {},
   "source": [
    "##\n",
    "### 3.- ENCUENTRA LOS EXONES\n",
    "#### Encuentra los exones en la siguiente secuencia\n",
    "1. El primer exón va de la primera base a la base 63 (empieza a contar desde 0)\n",
    "2. El segundo exón va de la base 91 (contando desde 0) hasta el final\n",
    "3. Calcula el porcentaje de secuencia codificante\n",
    "4. Imprime en pantalla la secuencia original con los exones en mayúsculas y los intrones en minúsculas"
   ]
  },
  {
   "cell_type": "code",
   "execution_count": 148,
   "metadata": {},
   "outputs": [],
   "source": [
    "genomic_dna = \"ATCGATCGATCGATCGACTGACTAGTCATAGCTATGCATGTAGCTACTCGATCGATCGATCGATCGATCGATCGATCGATCGATCATGCTATCATCGATCGATATCGATGCATCGACTACTAT\""
   ]
  },
  {
   "cell_type": "code",
   "execution_count": 149,
   "metadata": {},
   "outputs": [
    {
     "name": "stdout",
     "output_type": "stream",
     "text": [
      "ATCGATCGATCGATCGACTGACTAGTCATAGCTATGCATGTAGCTACTCGATCGATCGATCGA\n"
     ]
    }
   ],
   "source": [
    "exon1 = genomic_dna[0:63] #hacemos un substring con los elementos que deberían ser el exon 1\n",
    "print(exon1)"
   ]
  },
  {
   "cell_type": "code",
   "execution_count": 150,
   "metadata": {},
   "outputs": [
    {
     "name": "stdout",
     "output_type": "stream",
     "text": [
      "TCATCGATCGATATCGATGCATCGACTACTAT\n"
     ]
    }
   ],
   "source": [
    "exon2 = genomic_dna[91:len(genomic_dna)] #hacemos lo mismo para el exon 2\n",
    "print(exon2)"
   ]
  },
  {
   "cell_type": "code",
   "execution_count": 151,
   "metadata": {},
   "outputs": [
    {
     "name": "stdout",
     "output_type": "stream",
     "text": [
      "77.23577235772358\n"
     ]
    }
   ],
   "source": [
    "Porcentaje_codificante = ((len(exon1)+len(exon2))/len(genomic_dna))*100 #hacemos una formula sencilla para sacar el porcentaje de secuencia codificante (exones)\n",
    "print(Porcentaje_codificante)"
   ]
  },
  {
   "cell_type": "code",
   "execution_count": 152,
   "metadata": {},
   "outputs": [
    {
     "name": "stdout",
     "output_type": "stream",
     "text": [
      "ATCGATCGATCGATCGACTGACTAGTCATAGCTATGCATGTAGCTACTCGATCGATCGATCGATCGATCGATCGATCGATCGATCATGCTATCATCGATCGATATCGATGCATCGACTACTAT\n",
      "ATCGATCGATCGATCGACTGACTAGTCATAGCTATGCATGTAGCTACTCGATCGATCGATCGAtcgatcgatcgatcgatcgatcatgctaTCATCGATCGATATCGATGCATCGACTACTAT\n"
     ]
    }
   ],
   "source": [
    "intron = genomic_dna[63:91] #sacamos el intron que por descarte es lo que esta entre los dos exones\n",
    "intron_min = intron.lower() #lo ponemos en minusculas\n",
    "\n",
    "exonesmay_intronesmin = exon1 + intron_min + exon2 #lo juntamos con los exones en orden\n",
    "\n",
    "print(genomic_dna)\n",
    "print(exonesmay_intronesmin)"
   ]
  },
  {
   "cell_type": "markdown",
   "metadata": {},
   "source": [
    "##\n",
    "### 4.- ESCRIBE UN ARCHIVO FASTA\n",
    "#### Escribe un archivo FASTA que tenga las siguientes secuencias:\n",
    "1. ABC123 \tATCGTACGATCGATCGATCGCTAGACGTATCG\n",
    "2. DEF456 \tactgatcgacgatcgatcgatcacgact\n",
    "3. HIJ789 \tACTGAC-ACTGT--ACTGTA----CATGTG\n",
    "\n",
    "###### *Ten en cuenta que todas las secuencias deben tener solo ATGC caracteres y tienen que estar en mayúsculas\n",
    "###### Recuerda que las secuencias en FASTA empiezan por una línea \">identificador\" y la siguiente línea tiene la secuencia\n",
    "\n",
    "###### >ABC123\n",
    "###### ATCGTACGATCGATCGATCGCTAGACGTATCG\n",
    "###### >DEF456\n",
    "###### ACTGATCGACGATCGATCGATCACGACT\n",
    "###### >HIJ789\n",
    "###### ACTGACACTGTACTGTACATGTG"
   ]
  },
  {
   "cell_type": "code",
   "execution_count": 153,
   "metadata": {},
   "outputs": [
    {
     "name": "stdout",
     "output_type": "stream",
     "text": [
      "ABC123\n",
      "ATCGTACGATCGATCGATCGCTAGACGTATCG\n",
      "DEF456\n",
      "actgatcgacgatcgatcgatcacgact\n",
      "HIJ789\n",
      "ACTGAC-ACTGT--ACTGTA----CATGTG\n"
     ]
    }
   ],
   "source": [
    "d={\n",
    "    'ABC123' :'ATCGTACGATCGATCGATCGCTAGACGTATCG',\n",
    "    'DEF456' : 'actgatcgacgatcgatcgatcacgact',\n",
    "    'HIJ789' : 'ACTGAC-ACTGT--ACTGTA----CATGTG'\n",
    "}\n",
    "\n",
    "for key in d.keys():\n",
    "    print(key)\n",
    "    print(d[key])"
   ]
  },
  {
   "cell_type": "code",
   "execution_count": 154,
   "metadata": {
    "scrolled": true
   },
   "outputs": [
    {
     "name": "stdout",
     "output_type": "stream",
     "text": [
      "{'>ABC123': 'ATCGTACGATCGATCGATCGCTAGACGTATCG', '>DEF456': 'actgatcgacgatcgatcgatcacgact', '>HIJ789': 'ACTGAC-ACTGT--ACTGTA----CATGTG'}\n"
     ]
    }
   ],
   "source": [
    "d[\">ABC123\"] = d[\"ABC123\"] #añadimos nuevas claves que son iguales a las anteriores pero tienen el >\n",
    "del d[\"ABC123\"] #eliminamos las claves antiguas para no tenerlas repetidas\n",
    "\n",
    "d[\">DEF456\"] = d[\"DEF456\"]\n",
    "del d[\"DEF456\"]\n",
    "\n",
    "d[\">HIJ789\"] = d[\"HIJ789\"]\n",
    "del d[\"HIJ789\"]\n",
    "\n",
    "print(d)"
   ]
  },
  {
   "cell_type": "code",
   "execution_count": 155,
   "metadata": {
    "scrolled": false
   },
   "outputs": [
    {
     "name": "stdout",
     "output_type": "stream",
     "text": [
      ">ABC123\n",
      "ATCGTACGATCGATCGATCGCTAGACGTATCG\n",
      ">DEF456\n",
      "ACTGATCGACGATCGATCGATCACGACT\n",
      ">HIJ789\n",
      "ACTGACACTGTACTGTACATGTG\n"
     ]
    }
   ],
   "source": [
    "for clave in d:\n",
    "    d[clave] = d[clave].upper().replace(\"-\", \"\") #hacemos un bucle que nos pone todo en mayusculas y nos quita los \"-\"\n",
    "\n",
    "for clave, valor in d.items(): #hacemos otro bucle que nos organiza por lineas el diccionario\n",
    "    print(clave)\n",
    "    print(valor)"
   ]
  },
  {
   "cell_type": "markdown",
   "metadata": {},
   "source": [
    "##\n",
    "### 5.- ELIMINA ADAPTADORES\n",
    "#### El archivo input.txt tiene unas secuencias de ADN, una por línea. \n",
    "#### Todas las secuencias empiezan con el mismo adaptador que llega hasta la base 14. Escribe un programa que:\n",
    "1. Remueva el adaptador de la secuencia y escriba la secuencia limpia en un archivo\n",
    "2. Imprima en pantalla la longitud de cada secuencia limpia"
   ]
  },
  {
   "cell_type": "code",
   "execution_count": 156,
   "metadata": {},
   "outputs": [
    {
     "name": "stdout",
     "output_type": "stream",
     "text": [
      "Longitud de la secuencia limpia: 42\n",
      "Longitud de la secuencia limpia: 37\n",
      "Longitud de la secuencia limpia: 48\n",
      "Longitud de la secuencia limpia: 33\n",
      "Longitud de la secuencia limpia: 47\n"
     ]
    }
   ],
   "source": [
    "input_file = \"input.txt\"\n",
    "output_file = \"output.txt\"\n",
    "\n",
    "#Hacemos la función para quitar el adaptador de una secuencia\n",
    "def remover_adaptador(secuencia):\n",
    "    return secuencia[14:]\n",
    "\n",
    "#Abrimos el archivo de entrada y el archivo de salida\n",
    "with open(input_file, \"r\") as f_in, open(output_file, \"w\") as f_out:\n",
    "    for linea in f_in:\n",
    "        secuencia = linea.strip()  #Leemos una línea y quitamos los saltos de línea\n",
    "        secuencia_limpia = remover_adaptador(secuencia)  #quitamos el adaptador con la función que hemos hecho antes\n",
    "        f_out.write(secuencia_limpia + '\\n')  #Escribimos la secuencia limpia en el output.txt\n",
    "        print(f\"Longitud de la secuencia limpia: {len(secuencia_limpia)}\")"
   ]
  },
  {
   "cell_type": "markdown",
   "metadata": {},
   "source": [
    "##\n",
    "### 6.- PORCENTAJE DE AMINO ACIDOS\n",
    "#### Escribe una función que tome dos argumentos: una secuencia de proteínas y un amino ácido. \n",
    "#### Queremos que devuelva el porcentaje del amino ácido en la secuencia de proteínas. \n",
    "#### Una vez que tengas hecha tu función, emplea las siguientes aserciones para comprobar tu código."
   ]
  },
  {
   "cell_type": "code",
   "execution_count": 157,
   "metadata": {},
   "outputs": [],
   "source": [
    "def my_function(secuencia, aminoacido): #primero definimos la función en la que se necesita poner primero la secuencia y luego el aminoacido a buscar\n",
    "    \n",
    "    secuencia = secuencia.upper() #para que la secuencia siempre este en mayusculas aun si se escribe en la función con minusculas\n",
    "    aminoacido = aminoacido.upper() #para que el aminoácido siempre este en mayusculas aun si se escribe inicialmente en la función en minusculas\n",
    "    \n",
    "    numero_aminoacidos = secuencia.count(aminoacido) #contamos el numero de veces que se repite nuestro aa en la secuencia dada\n",
    "    longitud = len(secuencia) #medimos la longitud de la secuencia dada\n",
    "    \n",
    "    porcentaje = (numero_aminoacidos/longitud)*100 #hacemos la formula del porcentaje\n",
    "    \n",
    "    print(f\"El porcentaje de {aminoacido} en la secuencia es: {porcentaje:.2f}%\") #para que nos de un texto con nuestro resultado y quede mas bonito \n",
    "    return porcentaje #el resulado nos tiene que dar el porcentaje"
   ]
  },
  {
   "cell_type": "code",
   "execution_count": 158,
   "metadata": {},
   "outputs": [
    {
     "name": "stdout",
     "output_type": "stream",
     "text": [
      "El porcentaje de M en la secuencia es: 5.00%\n",
      "El porcentaje de R en la secuencia es: 10.00%\n",
      "El porcentaje de L en la secuencia es: 50.00%\n",
      "El porcentaje de Y en la secuencia es: 0.00%\n"
     ]
    }
   ],
   "source": [
    "assert my_function(\"MSRSLLLRFLLFLLLLPPLP\", \"M\") == 5\n",
    "assert my_function(\"MSRSLLLRFLLFLLLLPPLP\", \"r\") == 10\n",
    "assert my_function(\"msrslllrfllfllllpplp\", \"L\") == 50\n",
    "assert my_function(\"MSRSLLLRFLLFLLLLPPLP\", \"Y\") == 0 #no da error asi que esta bien :)"
   ]
  },
  {
   "cell_type": "markdown",
   "metadata": {},
   "source": [
    "Como ejemplo:"
   ]
  },
  {
   "cell_type": "code",
   "execution_count": 159,
   "metadata": {},
   "outputs": [
    {
     "name": "stdout",
     "output_type": "stream",
     "text": [
      "El porcentaje de L en la secuencia es: 23.08%\n"
     ]
    },
    {
     "data": {
      "text/plain": [
       "23.076923076923077"
      ]
     },
     "execution_count": 159,
     "metadata": {},
     "output_type": "execute_result"
    }
   ],
   "source": [
    "my_function(\"MAGLTPRqwrkLL\",\"l\")"
   ]
  }
 ],
 "metadata": {
  "kernelspec": {
   "display_name": "Python 3 (ipykernel)",
   "language": "python",
   "name": "python3"
  },
  "language_info": {
   "codemirror_mode": {
    "name": "ipython",
    "version": 3
   },
   "file_extension": ".py",
   "mimetype": "text/x-python",
   "name": "python",
   "nbconvert_exporter": "python",
   "pygments_lexer": "ipython3",
   "version": "3.11.4"
  }
 },
 "nbformat": 4,
 "nbformat_minor": 4
}
