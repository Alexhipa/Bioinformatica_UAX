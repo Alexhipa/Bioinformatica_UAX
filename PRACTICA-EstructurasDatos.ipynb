{
 "cells": [
  {
   "cell_type": "markdown",
   "id": "57e5a4ba",
   "metadata": {},
   "source": [
    "# PRACTICA Estructuras de Datos\n",
    "\n",
    "### Resuelve las siguientes preguntas empleando lo aprendido con las estructuras de Datos\n",
    "\n",
    "#### Esta práctica se entrega el día 22 de octubre a las 23:59\n",
    "#### Cuenta el 5% de la nota"
   ]
  },
  {
   "cell_type": "markdown",
   "id": "092831f1",
   "metadata": {},
   "source": [
    "Pon el código debajo de cada pregunta. Añade tantas celdas de código como necesites."
   ]
  },
  {
   "cell_type": "markdown",
   "id": "94b6abb8",
   "metadata": {},
   "source": [
    "#### 1.- Escribe una ecuación que emplee multiplicación, división, un exponente, suma y resta y que sea igual a 100.25."
   ]
  },
  {
   "cell_type": "code",
   "execution_count": 2,
   "id": "83423ac9",
   "metadata": {},
   "outputs": [
    {
     "data": {
      "text/plain": [
       "100.25"
      ]
     },
     "execution_count": 2,
     "metadata": {},
     "output_type": "execute_result"
    }
   ],
   "source": [
    "1*1/1**1+99.25-0"
   ]
  },
  {
   "cell_type": "markdown",
   "id": "95ec00dc",
   "metadata": {},
   "source": [
    "#### 2.- ¿Qué harías para obtener la raíz cuadrada de 100?"
   ]
  },
  {
   "cell_type": "code",
   "execution_count": 3,
   "id": "bc0163d7",
   "metadata": {},
   "outputs": [
    {
     "data": {
      "text/plain": [
       "10.0"
      ]
     },
     "execution_count": 3,
     "metadata": {},
     "output_type": "execute_result"
    }
   ],
   "source": [
    "100**0.5"
   ]
  },
  {
   "cell_type": "markdown",
   "id": "95232620",
   "metadata": {},
   "source": [
    "#### 3.- ¿Y el cuadrado de 100?"
   ]
  },
  {
   "cell_type": "code",
   "execution_count": 4,
   "id": "8c57ca47",
   "metadata": {},
   "outputs": [
    {
     "data": {
      "text/plain": [
       "10000"
      ]
     },
     "execution_count": 4,
     "metadata": {},
     "output_type": "execute_result"
    }
   ],
   "source": [
    "100**2"
   ]
  },
  {
   "cell_type": "markdown",
   "id": "7fc5bfae",
   "metadata": {},
   "source": [
    "#### 4.- Tenemos la string 'hello'.\n",
    "#### Primero devuelve la letra 'e'\n",
    "#### Luego dale la vuelta a la string \n",
    "#### Después usa dos métodos para devolver la letra 'o'"
   ]
  },
  {
   "cell_type": "code",
   "execution_count": 15,
   "id": "a6d0eb90",
   "metadata": {},
   "outputs": [],
   "source": [
    "s = 'hello'"
   ]
  },
  {
   "cell_type": "code",
   "execution_count": 16,
   "id": "6441e8d4",
   "metadata": {},
   "outputs": [
    {
     "data": {
      "text/plain": [
       "'e'"
      ]
     },
     "execution_count": 16,
     "metadata": {},
     "output_type": "execute_result"
    }
   ],
   "source": [
    "s[1]"
   ]
  },
  {
   "cell_type": "code",
   "execution_count": 17,
   "id": "eb106540",
   "metadata": {},
   "outputs": [
    {
     "data": {
      "text/plain": [
       "'olleh'"
      ]
     },
     "execution_count": 17,
     "metadata": {},
     "output_type": "execute_result"
    }
   ],
   "source": [
    "s[::-1]"
   ]
  },
  {
   "cell_type": "code",
   "execution_count": 18,
   "id": "2dc8c751",
   "metadata": {},
   "outputs": [
    {
     "data": {
      "text/plain": [
       "'o'"
      ]
     },
     "execution_count": 18,
     "metadata": {},
     "output_type": "execute_result"
    }
   ],
   "source": [
    "s[4]"
   ]
  },
  {
   "cell_type": "code",
   "execution_count": 19,
   "id": "5192b081",
   "metadata": {},
   "outputs": [
    {
     "data": {
      "text/plain": [
       "'o'"
      ]
     },
     "execution_count": 19,
     "metadata": {},
     "output_type": "execute_result"
    }
   ],
   "source": [
    "s[::-5]"
   ]
  },
  {
   "cell_type": "markdown",
   "id": "0febc918",
   "metadata": {},
   "source": [
    "#### 5.- Crear una lista que contenga esto [0,0,0] de dos formas distintas"
   ]
  },
  {
   "cell_type": "code",
   "execution_count": 5,
   "id": "2bd51f36",
   "metadata": {},
   "outputs": [],
   "source": [
    "lista=[0,0,0]\n",
    "lista=[0]*3"
   ]
  },
  {
   "cell_type": "markdown",
   "id": "80e1a951",
   "metadata": {},
   "source": [
    "#### 6.- Reasigna 'hello' en la lista a continuación para que diga 'goodbye'"
   ]
  },
  {
   "cell_type": "code",
   "execution_count": 6,
   "id": "20d1ebdf",
   "metadata": {},
   "outputs": [],
   "source": [
    "lista = [1,2,[3,4,'hello']]"
   ]
  },
  {
   "cell_type": "code",
   "execution_count": 7,
   "id": "f05c7016",
   "metadata": {},
   "outputs": [
    {
     "data": {
      "text/plain": [
       "'hello'"
      ]
     },
     "execution_count": 7,
     "metadata": {},
     "output_type": "execute_result"
    }
   ],
   "source": [
    "lista[-1][-1]"
   ]
  },
  {
   "cell_type": "code",
   "execution_count": 8,
   "id": "e8e3f081",
   "metadata": {},
   "outputs": [],
   "source": [
    "lista[2][2]=\"goodbye\""
   ]
  },
  {
   "cell_type": "code",
   "execution_count": 9,
   "id": "372657f3",
   "metadata": {},
   "outputs": [
    {
     "data": {
      "text/plain": [
       "[1, 2, [3, 4, 'goodbye']]"
      ]
     },
     "execution_count": 9,
     "metadata": {},
     "output_type": "execute_result"
    }
   ],
   "source": [
    "lista"
   ]
  },
  {
   "cell_type": "markdown",
   "id": "77e38490",
   "metadata": {},
   "source": [
    "#### 7.- Ordena la siguiente lista"
   ]
  },
  {
   "cell_type": "code",
   "execution_count": 11,
   "id": "bc957d55",
   "metadata": {},
   "outputs": [],
   "source": [
    "listaSinOrdenar = [5,3,4,6,1]"
   ]
  },
  {
   "cell_type": "code",
   "execution_count": 12,
   "id": "788bb869",
   "metadata": {},
   "outputs": [],
   "source": [
    "listaSinOrdenar.sort()"
   ]
  },
  {
   "cell_type": "code",
   "execution_count": 13,
   "id": "c7a6c1a6",
   "metadata": {},
   "outputs": [
    {
     "data": {
      "text/plain": [
       "[1, 3, 4, 5, 6]"
      ]
     },
     "execution_count": 13,
     "metadata": {},
     "output_type": "execute_result"
    }
   ],
   "source": [
    "listaSinOrdenar"
   ]
  },
  {
   "cell_type": "markdown",
   "id": "0cc790ac",
   "metadata": {},
   "source": [
    "#### 8.- En los siguientes diccionarios, extrae el valor de 'hello'"
   ]
  },
  {
   "cell_type": "code",
   "execution_count": 20,
   "id": "c390a0bb",
   "metadata": {},
   "outputs": [],
   "source": [
    "f = {'k1':{'k2':'hello'}}"
   ]
  },
  {
   "cell_type": "code",
   "execution_count": 21,
   "id": "fdd6717a",
   "metadata": {},
   "outputs": [
    {
     "data": {
      "text/plain": [
       "'hello'"
      ]
     },
     "execution_count": 21,
     "metadata": {},
     "output_type": "execute_result"
    }
   ],
   "source": [
    "f['k1']['k2']"
   ]
  },
  {
   "cell_type": "code",
   "execution_count": 22,
   "id": "c0244e1f",
   "metadata": {},
   "outputs": [],
   "source": [
    "d = {'key1':'hello'}"
   ]
  },
  {
   "cell_type": "code",
   "execution_count": 23,
   "id": "b1eedc6b",
   "metadata": {},
   "outputs": [
    {
     "data": {
      "text/plain": [
       "'hello'"
      ]
     },
     "execution_count": 23,
     "metadata": {},
     "output_type": "execute_result"
    }
   ],
   "source": [
    "d['key1']"
   ]
  },
  {
   "cell_type": "code",
   "execution_count": 24,
   "id": "344d780b",
   "metadata": {},
   "outputs": [],
   "source": [
    "g = {'k1':[{'o1':['valor escondido',['hello']]}]}"
   ]
  },
  {
   "cell_type": "code",
   "execution_count": 25,
   "id": "cb114c90",
   "metadata": {},
   "outputs": [
    {
     "data": {
      "text/plain": [
       "'hello'"
      ]
     },
     "execution_count": 25,
     "metadata": {},
     "output_type": "execute_result"
    }
   ],
   "source": [
    "g['k1'][0]['o1'][1][0]"
   ]
  },
  {
   "cell_type": "code",
   "execution_count": 26,
   "id": "663f9ffd",
   "metadata": {},
   "outputs": [],
   "source": [
    "h = {'k1':[1,2,{'k2':['complicado',{'dificil':[1,2,['hello']]}]}]}"
   ]
  },
  {
   "cell_type": "code",
   "execution_count": 27,
   "id": "e32edb55",
   "metadata": {},
   "outputs": [
    {
     "data": {
      "text/plain": [
       "'hello'"
      ]
     },
     "execution_count": 27,
     "metadata": {},
     "output_type": "execute_result"
    }
   ],
   "source": [
    "h['k1'][2]['k2'][1]['dificil'][2][0]"
   ]
  },
  {
   "cell_type": "markdown",
   "id": "7692eea8",
   "metadata": {},
   "source": [
    "#### 9.- Crea una tupla"
   ]
  },
  {
   "cell_type": "code",
   "execution_count": 28,
   "id": "ebf8c41e",
   "metadata": {},
   "outputs": [],
   "source": [
    "t=(\"el\",\"mejor\",\"trabajo\")"
   ]
  },
  {
   "cell_type": "code",
   "execution_count": 29,
   "id": "c10b60e4",
   "metadata": {},
   "outputs": [
    {
     "data": {
      "text/plain": [
       "('el', 'mejor', 'trabajo')"
      ]
     },
     "execution_count": 29,
     "metadata": {},
     "output_type": "execute_result"
    }
   ],
   "source": [
    "t"
   ]
  },
  {
   "cell_type": "markdown",
   "id": "6231d723",
   "metadata": {},
   "source": [
    "#### 10.- Emplea los sets para encontrar los valores únicos de esta lista"
   ]
  },
  {
   "cell_type": "code",
   "execution_count": 30,
   "id": "a7cbba3a",
   "metadata": {},
   "outputs": [],
   "source": [
    "listaDuplicada = [1,2,2,33,4,4,11,22,3,3,2]"
   ]
  },
  {
   "cell_type": "code",
   "execution_count": 32,
   "id": "683883c6",
   "metadata": {},
   "outputs": [],
   "source": [
    "mi_set = set(listaDuplicada)"
   ]
  },
  {
   "cell_type": "code",
   "execution_count": 33,
   "id": "eb0fc777",
   "metadata": {},
   "outputs": [
    {
     "data": {
      "text/plain": [
       "{1, 2, 3, 4, 11, 22, 33}"
      ]
     },
     "execution_count": 33,
     "metadata": {},
     "output_type": "execute_result"
    }
   ],
   "source": [
    "mi_set"
   ]
  },
  {
   "cell_type": "markdown",
   "id": "9b217cfc",
   "metadata": {},
   "source": [
    "#### 11.- Haz las siguientes comparaciones:\n",
    "#### Dos mayor que tres\n",
    "#### Tres igual que 2\n",
    "#### La raíz cuadrada de cuatro no es igual a 2"
   ]
  },
  {
   "cell_type": "code",
   "execution_count": 34,
   "id": "8b8a5e24",
   "metadata": {},
   "outputs": [
    {
     "data": {
      "text/plain": [
       "False"
      ]
     },
     "execution_count": 34,
     "metadata": {},
     "output_type": "execute_result"
    }
   ],
   "source": [
    "2>3"
   ]
  },
  {
   "cell_type": "code",
   "execution_count": 36,
   "id": "1dd6c694",
   "metadata": {},
   "outputs": [
    {
     "data": {
      "text/plain": [
       "False"
      ]
     },
     "execution_count": 36,
     "metadata": {},
     "output_type": "execute_result"
    }
   ],
   "source": [
    "3==2"
   ]
  },
  {
   "cell_type": "code",
   "execution_count": 37,
   "id": "95868d2e",
   "metadata": {},
   "outputs": [
    {
     "data": {
      "text/plain": [
       "False"
      ]
     },
     "execution_count": 37,
     "metadata": {},
     "output_type": "execute_result"
    }
   ],
   "source": [
    "(4**0.5)!=2"
   ]
  }
 ],
 "metadata": {
  "kernelspec": {
   "display_name": "Python 3 (ipykernel)",
   "language": "python",
   "name": "python3"
  },
  "language_info": {
   "codemirror_mode": {
    "name": "ipython",
    "version": 3
   },
   "file_extension": ".py",
   "mimetype": "text/x-python",
   "name": "python",
   "nbconvert_exporter": "python",
   "pygments_lexer": "ipython3",
   "version": "3.11.4"
  }
 },
 "nbformat": 4,
 "nbformat_minor": 5
}
